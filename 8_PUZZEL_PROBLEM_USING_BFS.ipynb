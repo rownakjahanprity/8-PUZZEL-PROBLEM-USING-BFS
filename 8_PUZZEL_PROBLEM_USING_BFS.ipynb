{
  "nbformat": 4,
  "nbformat_minor": 0,
  "metadata": {
    "colab": {
      "provenance": []
    },
    "kernelspec": {
      "name": "python3",
      "display_name": "Python 3"
    },
    "language_info": {
      "name": "python"
    }
  },
  "cells": [
    {
      "cell_type": "markdown",
      "source": [
        "***8 PUZZEL PROBLEM USING BFS***"
      ],
      "metadata": {
        "id": "uZ6diSrszirh"
      }
    },
    {
      "cell_type": "code",
      "execution_count": 27,
      "metadata": {
        "id": "-0peV31ezhTy"
      },
      "outputs": [],
      "source": [
        "from copy import copy, deepcopy"
      ]
    },
    {
      "cell_type": "code",
      "source": [
        "ini_state = [[1,3,6],[8,0,4],[5,2,7]]\n",
        "#ini_state = [[0,1,2],[3,4,5],[6,7,8]]\n",
        "#ini_state = [[3,1,2],[4,0,5],[6,7,8]]\n",
        "goal_state = [[0,1,2],[3,4,5],[6,7,8]]"
      ],
      "metadata": {
        "id": "d3UbI1LXz3Vs"
      },
      "execution_count": 28,
      "outputs": []
    },
    {
      "cell_type": "code",
      "source": [
        "class State:\n",
        "  def __init__(self, tile_loc, par):\n",
        "    self.tile_loc = tile_loc\n",
        "    self.parent = par\n",
        "\n",
        "  def getChildren(self):\n",
        "    children = []\n",
        "    r, c = self.getZeroLoc()\n",
        "    new_zero_locs = [(r+1, c),(r, c+1), (r-1, c), (r, c-1)]\n",
        "    for new_loc in new_zero_locs:\n",
        "      if self.isValid(new_loc):\n",
        "        rn, cn = new_loc\n",
        "        new_tiles = deepcopy(self.tile_loc)\n",
        "        new_tiles[r][c] = self.tile_loc[rn][cn]\n",
        "        new_tiles[rn][cn] =  self.tile_loc[r][c]\n",
        "        child = State(new_tiles, self)\n",
        "        children.append(child)\n",
        "    return children\n",
        "\n",
        "\n",
        "  def getZeroLoc(self):\n",
        "    for i in range(0,3):\n",
        "      for j in range(0,3):\n",
        "        if self.tile_loc[i][j] == 0:\n",
        "          return i,j\n",
        "\n",
        "  def isValid(self, new_loc):\n",
        "    ri, ci =  new_loc\n",
        "    if ri>=0 and ri<3 and ci>=0 and ci<3:\n",
        "      return True\n",
        "    return False\n",
        "\n",
        "  def printState(self):\n",
        "    for i in range(0,3):\n",
        "      for j in range(0,3):\n",
        "        if self.tile_loc[i][j]!=0:\n",
        "          print(\"{}\".format(self.tile_loc[i][j]), end=\" \")\n",
        "        else:\n",
        "          print(\"_\", end=\" \")\n",
        "      print()\n",
        "\n",
        "  "
      ],
      "metadata": {
        "id": "-ajvp_84RJkT"
      },
      "execution_count": 29,
      "outputs": []
    },
    {
      "cell_type": "code",
      "source": [
        "color = {}\n",
        "def getStrIdentity(tile_loc):\n",
        "  st = \"\"\n",
        "  for i in range(0,3):\n",
        "    for j in range(0,3):\n",
        "      st = st + str(tile_loc[i][j])\n",
        "  return st\n",
        "  \n",
        "def getColor(st):\n",
        "  if st in color.keys():\n",
        "    return color[st]\n",
        "  else:\n",
        "    color[st] = \"white\"\n",
        "    return color[st]\n",
        "\n",
        "def setColor(st, newC):\n",
        "  color[st] = newC"
      ],
      "metadata": {
        "id": "FP-LMd-E0YDE"
      },
      "execution_count": 30,
      "outputs": []
    },
    {
      "cell_type": "code",
      "source": [
        "def goal_test(tile_loc):\n",
        "  if getStrIdentity(tile_loc) == getStrIdentity(goal_state):\n",
        "    return True\n",
        "  return False"
      ],
      "metadata": {
        "id": "I-UTwsLf0uis"
      },
      "execution_count": 31,
      "outputs": []
    },
    {
      "cell_type": "code",
      "source": [
        "def bfs():\n",
        "  while queue:\n",
        "   curr = queue.pop(0)\n",
        "   if goal_test(curr.tile_loc):\n",
        "     return curr\n",
        "   setColor(getStrIdentity(curr.tile_loc),\"black\")\n",
        "   children = curr.getChildren()\n",
        "   for child in children:\n",
        "     if getColor(getStrIdentity(child.tile_loc)) == \"white\":\n",
        "       queue.append(child)\n",
        "       setColor(getStrIdentity(curr.tile_loc),\"grey\")\n",
        "  return None"
      ],
      "metadata": {
        "id": "aKlTgPvh0uY_"
      },
      "execution_count": 32,
      "outputs": []
    },
    {
      "cell_type": "code",
      "source": [
        "queue = []\n",
        "initial_state = State(ini_state, None)\n",
        "queue.append(initial_state)\n",
        "setColor(getStrIdentity(initial_state.tile_loc), \"gray\")\n",
        "goal = bfs()\n",
        "\n",
        "goal.printState()"
      ],
      "metadata": {
        "colab": {
          "base_uri": "https://localhost:8080/"
        },
        "id": "elqoP39M1acA",
        "outputId": "218d1c0f-e0a8-477d-a03f-cf544613a120"
      },
      "execution_count": 33,
      "outputs": [
        {
          "output_type": "stream",
          "name": "stdout",
          "text": [
            "_ 1 2 \n",
            "3 4 5 \n",
            "6 7 8 \n"
          ]
        }
      ]
    },
    {
      "cell_type": "code",
      "source": [
        "def printPath(node, movecount):\n",
        "  mv = -1\n",
        "  if node.parent != None:\n",
        "    mv = printPath(node.parent, movecount)\n",
        "  node.printState()\n",
        "  print()\n",
        "  return 1+mv"
      ],
      "metadata": {
        "id": "3fWambvH1ihP"
      },
      "execution_count": 34,
      "outputs": []
    },
    {
      "cell_type": "code",
      "source": [
        "movecount  = printPath(goal, 0)\n",
        "print(\"Moves needed: {}\".format(movecount))"
      ],
      "metadata": {
        "colab": {
          "base_uri": "https://localhost:8080/"
        },
        "id": "9FOl6M4X2vtv",
        "outputId": "814dfc3b-dace-4351-ec37-12b5c4242366"
      },
      "execution_count": 35,
      "outputs": [
        {
          "output_type": "stream",
          "name": "stdout",
          "text": [
            "1 3 6 \n",
            "8 _ 4 \n",
            "5 2 7 \n",
            "\n",
            "1 3 6 \n",
            "8 2 4 \n",
            "5 _ 7 \n",
            "\n",
            "1 3 6 \n",
            "8 2 4 \n",
            "5 7 _ \n",
            "\n",
            "1 3 6 \n",
            "8 2 _ \n",
            "5 7 4 \n",
            "\n",
            "1 3 6 \n",
            "8 _ 2 \n",
            "5 7 4 \n",
            "\n",
            "1 3 6 \n",
            "8 7 2 \n",
            "5 _ 4 \n",
            "\n",
            "1 3 6 \n",
            "8 7 2 \n",
            "_ 5 4 \n",
            "\n",
            "1 3 6 \n",
            "_ 7 2 \n",
            "8 5 4 \n",
            "\n",
            "1 3 6 \n",
            "7 _ 2 \n",
            "8 5 4 \n",
            "\n",
            "1 _ 6 \n",
            "7 3 2 \n",
            "8 5 4 \n",
            "\n",
            "1 6 _ \n",
            "7 3 2 \n",
            "8 5 4 \n",
            "\n",
            "1 6 2 \n",
            "7 3 _ \n",
            "8 5 4 \n",
            "\n",
            "1 6 2 \n",
            "7 3 4 \n",
            "8 5 _ \n",
            "\n",
            "1 6 2 \n",
            "7 3 4 \n",
            "8 _ 5 \n",
            "\n",
            "1 6 2 \n",
            "7 3 4 \n",
            "_ 8 5 \n",
            "\n",
            "1 6 2 \n",
            "_ 3 4 \n",
            "7 8 5 \n",
            "\n",
            "1 6 2 \n",
            "3 _ 4 \n",
            "7 8 5 \n",
            "\n",
            "1 _ 2 \n",
            "3 6 4 \n",
            "7 8 5 \n",
            "\n",
            "_ 1 2 \n",
            "3 6 4 \n",
            "7 8 5 \n",
            "\n",
            "3 1 2 \n",
            "_ 6 4 \n",
            "7 8 5 \n",
            "\n",
            "3 1 2 \n",
            "6 _ 4 \n",
            "7 8 5 \n",
            "\n",
            "3 1 2 \n",
            "6 4 _ \n",
            "7 8 5 \n",
            "\n",
            "3 1 2 \n",
            "6 4 5 \n",
            "7 8 _ \n",
            "\n",
            "3 1 2 \n",
            "6 4 5 \n",
            "7 _ 8 \n",
            "\n",
            "3 1 2 \n",
            "6 4 5 \n",
            "_ 7 8 \n",
            "\n",
            "3 1 2 \n",
            "_ 4 5 \n",
            "6 7 8 \n",
            "\n",
            "_ 1 2 \n",
            "3 4 5 \n",
            "6 7 8 \n",
            "\n",
            "Moves needed: 26\n"
          ]
        }
      ]
    }
  ]
}